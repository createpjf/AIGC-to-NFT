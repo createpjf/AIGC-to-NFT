{
 "metadata": {
  "kernelspec": {
   "language": "python",
   "display_name": "Python 3",
   "name": "python3"
  },
  "language_info": {
   "name": "python",
   "version": "3.7.12",
   "mimetype": "text/x-python",
   "codemirror_mode": {
    "name": "ipython",
    "version": 3
   },
   "pygments_lexer": "ipython3",
   "nbconvert_exporter": "python",
   "file_extension": ".py"
  }
 },
 "nbformat_minor": 4,
 "nbformat": 4,
 "cells": [
  {
   "cell_type": "code",
   "source": [
    "import glob\n",
    "import os\n",
    "import shutil\n",
    "import matplotlib.pyplot as plt\n",
    "import numpy as np\n",
    "import pytorch_lightning as pl\n",
    "import torch\n",
    "import torch.nn.functional as F\n",
    "from torch import nn\n",
    "from torch.utils.data import DataLoader, Dataset\n",
    "from torchvision import transforms\n",
    "from torchvision.io import read_image\n",
    "from torchvision.utils import make_grid, save_image"
   ],
   "metadata": {
    "_cell_guid": "b1076dfc-b9ad-4769-8c92-a6c4dae69d19",
    "_uuid": "8f2839f25d086af736a60e9eeb907d3b93b6e0e5",
    "papermill": {
     "duration": 12.994572,
     "end_time": "2023-03-19T01:57:44.984673",
     "exception": false,
     "start_time": "2023-03-19T01:57:31.990101",
     "status": "completed"
    },
    "tags": [],
    "execution": {
     "iopub.status.busy": "2023-03-31T12:20:05.394293Z",
     "iopub.execute_input": "2023-03-31T12:20:05.394892Z",
     "iopub.status.idle": "2023-03-31T12:20:19.263729Z",
     "shell.execute_reply.started": "2023-03-31T12:20:05.394847Z",
     "shell.execute_reply": "2023-03-31T12:20:19.262621Z"
    },
    "trusted": true
   },
   "execution_count": null,
   "outputs": []
  },
  {
   "cell_type": "markdown",
   "source": [
    "---"
   ],
   "metadata": {
    "papermill": {
     "duration": 0.01099,
     "end_time": "2023-03-19T01:57:45.007205",
     "exception": false,
     "start_time": "2023-03-19T01:57:44.996215",
     "status": "completed"
    },
    "tags": []
   }
  },
  {
   "cell_type": "code",
   "source": [
    "def show_img(img_tensor, nrow=5, title=\"\"):\n",
    "    img_tensor = img_tensor.detach().cpu()*0.5 + 0.5\n",
    "    img_grid = make_grid(img_tensor, nrow=nrow).permute(1, 2, 0)\n",
    "    plt.figure(figsize=(18, 8))\n",
    "    plt.imshow(img_grid)\n",
    "    plt.axis(\"off\")\n",
    "    plt.title(title)\n",
    "    plt.show()"
   ],
   "metadata": {
    "_kg_hide-input": false,
    "papermill": {
     "duration": 0.020996,
     "end_time": "2023-03-19T01:57:45.062727",
     "exception": false,
     "start_time": "2023-03-19T01:57:45.041731",
     "status": "completed"
    },
    "tags": [],
    "execution": {
     "iopub.status.busy": "2023-03-31T12:20:19.269551Z",
     "iopub.execute_input": "2023-03-31T12:20:19.271969Z",
     "iopub.status.idle": "2023-03-31T12:20:19.280446Z",
     "shell.execute_reply.started": "2023-03-31T12:20:19.271932Z",
     "shell.execute_reply": "2023-03-31T12:20:19.278925Z"
    },
    "trusted": true
   },
   "execution_count": null,
   "outputs": []
  },
  {
   "cell_type": "code",
   "source": [
    "class CustomRotation(object):\n",
    "    def __call__(self, x):\n",
    "        angle = np.random.choice([0., 90, 180, 270])\n",
    "        return transforms.functional.rotate(x, angle)\n",
    "\n",
    "class CustomTransform(object):\n",
    "    def __init__(self, load_dim=286, target_dim=256):\n",
    "        self.transform = transforms.Compose([\n",
    "            transforms.Resize((load_dim, load_dim)),\n",
    "            transforms.RandomCrop((target_dim, target_dim)),\n",
    "            CustomRotation(),\n",
    "            transforms.RandomHorizontalFlip(0.5),\n",
    "            transforms.RandomVerticalFlip(0.5),\n",
    "        ])\n",
    "        \n",
    "    def __call__(self, img, stage=\"fit\"):\n",
    "        if stage == \"fit\":\n",
    "            img = self.transform(img)\n",
    "        return img/127.5 - 1"
   ],
   "metadata": {
    "papermill": {
     "duration": 0.021699,
     "end_time": "2023-03-19T01:57:45.140105",
     "exception": false,
     "start_time": "2023-03-19T01:57:45.118406",
     "status": "completed"
    },
    "tags": [],
    "execution": {
     "iopub.status.busy": "2023-03-31T12:20:19.285410Z",
     "iopub.execute_input": "2023-03-31T12:20:19.288006Z",
     "iopub.status.idle": "2023-03-31T12:20:19.298671Z",
     "shell.execute_reply.started": "2023-03-31T12:20:19.287969Z",
     "shell.execute_reply": "2023-03-31T12:20:19.297705Z"
    },
    "trusted": true
   },
   "execution_count": null,
   "outputs": []
  },
  {
   "cell_type": "code",
   "source": [
    "class CustomDataset(Dataset):\n",
    "    def __init__(self, monet_filenames, photo_filenames, transform, stage):\n",
    "        self.photo_filenames = photo_filenames\n",
    "        self.transform = transform\n",
    "        self.stage = stage\n",
    "        if stage == \"fit\":\n",
    "            self.monet_filenames = monet_filenames\n",
    "            self.check = len(monet_filenames)>len(photo_filenames)\n",
    "            self.shuffle()\n",
    "            \n",
    "    def shuffle(self):\n",
    "        if self.check:\n",
    "            self.indices = torch.randperm(len(self.monet_filenames))[:len(self.photo_filenames)]\n",
    "            \n",
    "        else:\n",
    "            self.indices = torch.randperm(len(self.photo_filenames))[:len(self.monet_filenames)]\n",
    "        \n",
    "    def __len__(self):\n",
    "        if self.stage == \"fit\":\n",
    "            return min(\n",
    "                len(self.monet_filenames), len(self.photo_filenames),\n",
    "            )\n",
    "    \n",
    "        elif self.stage == \"predict\":\n",
    "            return len(self.photo_filenames)\n",
    "    \n",
    "    def __getitem__(self, idx):\n",
    "        if self.stage == \"fit\":\n",
    "            monet_idx = self.indices[idx] if self.check else idx\n",
    "            photo_idx = idx if self.check else self.indices[idx]\n",
    "            monet_name = self.monet_filenames[monet_idx]\n",
    "            photo_name = self.photo_filenames[photo_idx]\n",
    "            monet = read_image(monet_name)\n",
    "            photo = read_image(photo_name)\n",
    "            if idx == len(self)-1:\n",
    "                self.shuffle()\n",
    "            return self.transform(monet), self.transform(photo)\n",
    "    \n",
    "        elif self.stage == \"predict\":\n",
    "            photo_name = self.photo_filenames[idx]\n",
    "            photo = read_image(photo_name)\n",
    "            return self.transform(photo, stage=self.stage)"
   ],
   "metadata": {
    "papermill": {
     "duration": 0.025818,
     "end_time": "2023-03-19T01:57:45.221633",
     "exception": false,
     "start_time": "2023-03-19T01:57:45.195815",
     "status": "completed"
    },
    "tags": [],
    "execution": {
     "iopub.status.busy": "2023-03-31T12:20:26.946491Z",
     "iopub.execute_input": "2023-03-31T12:20:26.947168Z",
     "iopub.status.idle": "2023-03-31T12:20:26.958998Z",
     "shell.execute_reply.started": "2023-03-31T12:20:26.947130Z",
     "shell.execute_reply": "2023-03-31T12:20:26.957856Z"
    },
    "trusted": true
   },
   "execution_count": null,
   "outputs": []
  },
  {
   "cell_type": "code",
   "source": [
    "MONET_DIR = \"/Users/apple/Downloads/gan-getting-started/monet_jpg/*.jpg\"\n",
    "PHOTO_DIR = \"/Users/apple/Downloads/353534535345/TU/*.png\"\n",
    "BATCH_SIZE = 1\n",
    "transform = CustomTransform()"
   ],
   "metadata": {
    "papermill": {
     "duration": 0.019339,
     "end_time": "2023-03-19T01:57:45.297921",
     "exception": false,
     "start_time": "2023-03-19T01:57:45.278582",
     "status": "completed"
    },
    "tags": [],
    "execution": {
     "iopub.status.busy": "2023-03-31T12:20:30.450662Z",
     "iopub.execute_input": "2023-03-31T12:20:30.451363Z",
     "iopub.status.idle": "2023-03-31T12:20:30.456319Z",
     "shell.execute_reply.started": "2023-03-31T12:20:30.451324Z",
     "shell.execute_reply": "2023-03-31T12:20:30.455234Z"
    },
    "trusted": true
   },
   "execution_count": null,
   "outputs": []
  },
  {
   "cell_type": "code",
   "source": [
    "class CustomDataModule(pl.LightningDataModule):\n",
    "    def __init__(\n",
    "        self, \n",
    "        monet_dir=MONET_DIR,\n",
    "        photo_dir=PHOTO_DIR,\n",
    "        batch_size=BATCH_SIZE,\n",
    "        transform=transform,\n",
    "    ):\n",
    "        super().__init__()\n",
    "        self.monet_filenames = sorted(glob.glob(monet_dir))\n",
    "        self.photo_filenames = sorted(glob.glob(photo_dir))\n",
    "        self.batch_size = batch_size\n",
    "        self.transform = transform\n",
    "        \n",
    "    def setup(self, stage):\n",
    "        if stage == \"fit\":\n",
    "            self.train = CustomDataset(\n",
    "                monet_filenames=self.monet_filenames,\n",
    "                photo_filenames=self.photo_filenames,\n",
    "                transform=self.transform,\n",
    "                stage=stage,\n",
    "            )\n",
    "        \n",
    "        elif stage == \"predict\":\n",
    "            self.predict = CustomDataset(\n",
    "                monet_filenames=self.monet_filenames,\n",
    "                photo_filenames=self.photo_filenames,\n",
    "                transform=self.transform,\n",
    "                stage=stage,\n",
    "            )\n",
    "            \n",
    "    def train_dataloader(self):\n",
    "        return DataLoader(\n",
    "            self.train, \n",
    "            batch_size=self.batch_size,\n",
    "            shuffle=True,\n",
    "        )\n",
    "    \n",
    "    def predict_dataloader(self):\n",
    "        return DataLoader(\n",
    "            self.predict, \n",
    "            batch_size=self.batch_size,\n",
    "            shuffle=False,\n",
    "        )"
   ],
   "metadata": {
    "papermill": {
     "duration": 0.022601,
     "end_time": "2023-03-19T01:57:45.331838",
     "exception": false,
     "start_time": "2023-03-19T01:57:45.309237",
     "status": "completed"
    },
    "tags": [],
    "execution": {
     "iopub.status.busy": "2023-03-31T12:20:33.585567Z",
     "iopub.execute_input": "2023-03-31T12:20:33.586279Z",
     "iopub.status.idle": "2023-03-31T12:20:33.598942Z",
     "shell.execute_reply.started": "2023-03-31T12:20:33.586241Z",
     "shell.execute_reply": "2023-03-31T12:20:33.597927Z"
    },
    "trusted": true
   },
   "execution_count": null,
   "outputs": []
  },
  {
   "cell_type": "code",
   "source": [
    "dm_sample = CustomDataModule(batch_size=5)\n",
    "dm_sample.setup(\"fit\")\n",
    "dm_sample.setup(\"predict\")\n",
    "\n",
    "train_loader = dm_sample.train_dataloader()\n",
    "monet_samples, _ = next(iter(train_loader))\n",
    "\n",
    "predict_loader = dm_sample.predict_dataloader()\n",
    "photo_samples = next(iter(predict_loader))\n",
    "\n",
    "show_img(monet_samples, title=\"Samples of Monet Paintings\")\n",
    "show_img(photo_samples, title=\"Samples of Photos\")"
   ],
   "metadata": {
    "papermill": {
     "duration": 1.301484,
     "end_time": "2023-03-19T01:57:46.667097",
     "exception": false,
     "start_time": "2023-03-19T01:57:45.365613",
     "status": "completed"
    },
    "tags": [],
    "execution": {
     "iopub.status.busy": "2023-03-31T12:20:36.898003Z",
     "iopub.execute_input": "2023-03-31T12:20:36.898394Z",
     "iopub.status.idle": "2023-03-31T12:20:38.174459Z",
     "shell.execute_reply.started": "2023-03-31T12:20:36.898361Z",
     "shell.execute_reply": "2023-03-31T12:20:38.173598Z"
    },
    "trusted": true
   },
   "execution_count": null,
   "outputs": []
  },
  {
   "cell_type": "markdown",
   "source": [
    "---"
   ],
   "metadata": {
    "papermill": {
     "duration": 0.035229,
     "end_time": "2023-03-19T01:57:46.737485",
     "exception": false,
     "start_time": "2023-03-19T01:57:46.702256",
     "status": "completed"
    },
    "tags": []
   }
  },
  {
   "cell_type": "code",
   "source": [
    "class Downsampling(nn.Module):\n",
    "    def __init__(\n",
    "        self,\n",
    "        in_channels,\n",
    "        out_channels,\n",
    "        norm=True,\n",
    "        kernel_size=4,\n",
    "        stride=2,\n",
    "        padding=1,\n",
    "    ):\n",
    "        super().__init__()\n",
    "        self.block = nn.Sequential(\n",
    "            nn.Conv2d(in_channels, out_channels, kernel_size=kernel_size,\n",
    "                      stride=stride, padding=padding, bias=False)\n",
    "        )\n",
    "        if norm:\n",
    "            self.block.append(nn.InstanceNorm2d(out_channels, affine=True))\n",
    "        self.block.append(nn.LeakyReLU(0.3))\n",
    "        \n",
    "    def forward(self, x):\n",
    "        return self.block(x)"
   ],
   "metadata": {
    "papermill": {
     "duration": 0.044778,
     "end_time": "2023-03-19T01:57:47.150705",
     "exception": false,
     "start_time": "2023-03-19T01:57:47.105927",
     "status": "completed"
    },
    "tags": [],
    "execution": {
     "iopub.status.busy": "2023-03-31T12:20:45.934259Z",
     "iopub.execute_input": "2023-03-31T12:20:45.934890Z",
     "iopub.status.idle": "2023-03-31T12:20:45.942911Z",
     "shell.execute_reply.started": "2023-03-31T12:20:45.934850Z",
     "shell.execute_reply": "2023-03-31T12:20:45.940816Z"
    },
    "trusted": true
   },
   "execution_count": null,
   "outputs": []
  },
  {
   "cell_type": "code",
   "source": [
    "class Upsampling(nn.Module):\n",
    "    def __init__(\n",
    "        self,\n",
    "        in_channels,\n",
    "        out_channels,\n",
    "        dropout=False,\n",
    "        kernel_size=4,\n",
    "        stride=2,\n",
    "        padding=1,\n",
    "    ):\n",
    "        super().__init__()\n",
    "        self.block = nn.Sequential(\n",
    "            nn.ConvTranspose2d(in_channels, out_channels, kernel_size=kernel_size,\n",
    "                               stride=stride, padding=padding, bias=False),\n",
    "            nn.InstanceNorm2d(out_channels, affine=True),\n",
    "        )\n",
    "        if dropout:\n",
    "            self.block.append(nn.Dropout(0.5))\n",
    "        self.block.append(nn.ReLU())\n",
    "        \n",
    "    def forward(self, x):\n",
    "        return self.block(x)"
   ],
   "metadata": {
    "papermill": {
     "duration": 0.044362,
     "end_time": "2023-03-19T01:57:47.359186",
     "exception": false,
     "start_time": "2023-03-19T01:57:47.314824",
     "status": "completed"
    },
    "tags": [],
    "execution": {
     "iopub.status.busy": "2023-03-31T12:20:50.006078Z",
     "iopub.execute_input": "2023-03-31T12:20:50.006509Z",
     "iopub.status.idle": "2023-03-31T12:20:50.017446Z",
     "shell.execute_reply.started": "2023-03-31T12:20:50.006470Z",
     "shell.execute_reply": "2023-03-31T12:20:50.016422Z"
    },
    "trusted": true
   },
   "execution_count": null,
   "outputs": []
  },
  {
   "cell_type": "code",
   "source": [
    "class Generator(nn.Module):\n",
    "    def __init__(self, in_channels, out_channels, hid_channels):\n",
    "        super().__init__()\n",
    "        self.downsampling_blocks = nn.Sequential(\n",
    "            Downsampling(in_channels, hid_channels, norm=False), #64x128x128\n",
    "            Downsampling(hid_channels, hid_channels*2), #128x64x64\n",
    "            Downsampling(hid_channels*2, hid_channels*4), #256x32x32\n",
    "            Downsampling(hid_channels*4, hid_channels*8), #512x16x16\n",
    "            Downsampling(hid_channels*8, hid_channels*8), #512x8x8\n",
    "            Downsampling(hid_channels*8, hid_channels*8), #512x4x4\n",
    "            Downsampling(hid_channels*8, hid_channels*8), #512x2x2\n",
    "            Downsampling(hid_channels*8, hid_channels*8, norm=False), #512x1x1\n",
    "        )\n",
    "        self.upsampling_blocks = nn.Sequential(\n",
    "            Upsampling(hid_channels*8, hid_channels*8, dropout=True), #(512+512)x2x2\n",
    "            Upsampling(hid_channels*16, hid_channels*8, dropout=True), #(512+512)x4x4\n",
    "            Upsampling(hid_channels*16, hid_channels*8, dropout=True), #(512+512)x8x8\n",
    "            Upsampling(hid_channels*16, hid_channels*8), #(512+512)x16x16\n",
    "            Upsampling(hid_channels*16, hid_channels*4), #(256+256)x32x32\n",
    "            Upsampling(hid_channels*8, hid_channels*2), #(128+128)x64x64\n",
    "            Upsampling(hid_channels*4, hid_channels), #(64+64)x128x128\n",
    "        )\n",
    "        self.feature_block = nn.Sequential(\n",
    "            nn.ConvTranspose2d(hid_channels*2, out_channels,\n",
    "                               kernel_size=4, stride=2, padding=1), #3x256x256\n",
    "            nn.Tanh(),\n",
    "        )\n",
    "        \n",
    "    def forward(self, x):\n",
    "        skips = []\n",
    "        for down in self.downsampling_blocks:\n",
    "            x = down(x)\n",
    "            skips.append(x)\n",
    "            \n",
    "        skips = reversed(skips[:-1])\n",
    "        for up, skip in zip(self.upsampling_blocks, skips):\n",
    "            x = up(x)\n",
    "            x = torch.cat([x, skip], dim=1)\n",
    "\n",
    "        return self.feature_block(x)"
   ],
   "metadata": {
    "papermill": {
     "duration": 0.047175,
     "end_time": "2023-03-19T01:57:48.061105",
     "exception": false,
     "start_time": "2023-03-19T01:57:48.01393",
     "status": "completed"
    },
    "tags": [],
    "execution": {
     "iopub.status.busy": "2023-03-31T12:20:53.426335Z",
     "iopub.execute_input": "2023-03-31T12:20:53.426740Z",
     "iopub.status.idle": "2023-03-31T12:20:53.438616Z",
     "shell.execute_reply.started": "2023-03-31T12:20:53.426705Z",
     "shell.execute_reply": "2023-03-31T12:20:53.437597Z"
    },
    "trusted": true
   },
   "execution_count": null,
   "outputs": []
  },
  {
   "cell_type": "code",
   "source": [
    "class Discriminator(nn.Module):\n",
    "    def __init__(self, in_channels, hid_channels):\n",
    "        super().__init__()\n",
    "        self.block = nn.Sequential(\n",
    "            Downsampling(in_channels, hid_channels, norm=False), #64x128x128\n",
    "            Downsampling(hid_channels, hid_channels*2), #128x64x64\n",
    "            Downsampling(hid_channels*2, hid_channels*4), #256x32x32\n",
    "            Downsampling(hid_channels*4, hid_channels*8, stride=1), #512x31x31\n",
    "            nn.Conv2d(hid_channels*8, 1, kernel_size=4, padding=1), #1x30x30\n",
    "        )\n",
    "        \n",
    "    def forward(self, x):\n",
    "        return self.block(x)"
   ],
   "metadata": {
    "papermill": {
     "duration": 0.043903,
     "end_time": "2023-03-19T01:57:48.343071",
     "exception": false,
     "start_time": "2023-03-19T01:57:48.299168",
     "status": "completed"
    },
    "tags": [],
    "execution": {
     "iopub.status.busy": "2023-03-31T12:20:58.182219Z",
     "iopub.execute_input": "2023-03-31T12:20:58.183153Z",
     "iopub.status.idle": "2023-03-31T12:20:58.191200Z",
     "shell.execute_reply.started": "2023-03-31T12:20:58.183095Z",
     "shell.execute_reply": "2023-03-31T12:20:58.189754Z"
    },
    "trusted": true
   },
   "execution_count": null,
   "outputs": []
  },
  {
   "cell_type": "code",
   "source": [
    "IN_CHANNELS = 3\n",
    "OUT_CHANNELS = 3\n",
    "HID_CHANNELS = 64\n",
    "LR = 2e-4\n",
    "BETAS = (0.5, 0.999)\n",
    "LAMBDA = 10\n",
    "NUM_EPOCHS = 180\n",
    "DISPLAY_EPOCHS = 30"
   ],
   "metadata": {
    "papermill": {
     "duration": 0.042883,
     "end_time": "2023-03-19T01:57:48.564164",
     "exception": false,
     "start_time": "2023-03-19T01:57:48.521281",
     "status": "completed"
    },
    "tags": [],
    "execution": {
     "iopub.status.busy": "2023-03-31T12:21:02.581320Z",
     "iopub.execute_input": "2023-03-31T12:21:02.582002Z",
     "iopub.status.idle": "2023-03-31T12:21:02.587982Z",
     "shell.execute_reply.started": "2023-03-31T12:21:02.581965Z",
     "shell.execute_reply": "2023-03-31T12:21:02.586922Z"
    },
    "trusted": true
   },
   "execution_count": null,
   "outputs": []
  },
  {
   "cell_type": "code",
   "source": [
    "class CycleGAN(pl.LightningModule):\n",
    "    def __init__(\n",
    "        self, \n",
    "        in_channels=IN_CHANNELS,\n",
    "        out_channels=OUT_CHANNELS, \n",
    "        hid_channels=HID_CHANNELS,\n",
    "        lr=LR,\n",
    "        betas=BETAS,\n",
    "        lambda_w=LAMBDA,\n",
    "        display_epochs=DISPLAY_EPOCHS,\n",
    "        photo_samples=photo_samples,\n",
    "    ):\n",
    "        super().__init__()\n",
    "        self.lr = lr\n",
    "        self.betas = betas\n",
    "        self.lambda_w = lambda_w\n",
    "        self.display_epochs = display_epochs\n",
    "        self.photo_samples = photo_samples\n",
    "        self.loss_history = []\n",
    "        self.epoch_count = 0\n",
    "        \n",
    "        self.gen_PM = Generator(in_channels, out_channels, hid_channels).apply(self.weights_init)\n",
    "        self.gen_MP = Generator(in_channels, out_channels, hid_channels).apply(self.weights_init)\n",
    "        self.disc_M = Discriminator(in_channels, hid_channels).apply(self.weights_init)\n",
    "        self.disc_P = Discriminator(in_channels, hid_channels).apply(self.weights_init)\n",
    "        \n",
    "    def forward(self, z):\n",
    "        return self.gen_PM(z)\n",
    "    \n",
    "    def weights_init(self, m):\n",
    "        if isinstance(m, (nn.Conv2d, nn.ConvTranspose2d, nn.InstanceNorm2d)):\n",
    "            nn.init.normal_(m.weight, 0., 0.02)\n",
    "            if m.bias is not None:\n",
    "                nn.init.constant_(m.bias, 0.)\n",
    "    \n",
    "    def adv_criterion(self, y_hat, y):\n",
    "        return F.binary_cross_entropy_with_logits(y_hat, y)\n",
    "    \n",
    "    def recon_criterion(self, y_hat, y):\n",
    "        return F.l1_loss(y_hat, y)\n",
    "    \n",
    "    def adv_loss(self, real_X, disc_Y, gen_XY):\n",
    "        fake_Y = gen_XY(real_X)\n",
    "        disc_fake_Y_hat = disc_Y(fake_Y)\n",
    "        adv_loss_XY = self.adv_criterion(disc_fake_Y_hat, torch.ones_like(disc_fake_Y_hat))\n",
    "        return adv_loss_XY, fake_Y\n",
    "    \n",
    "    def id_loss(self, real_X, gen_YX):\n",
    "        id_X = gen_YX(real_X)\n",
    "        id_loss_X = self.recon_criterion(id_X, real_X)\n",
    "        return id_loss_X\n",
    "    \n",
    "    def cycle_loss(self, real_X, fake_Y, gen_YX):\n",
    "        cycle_X = gen_YX(fake_Y)\n",
    "        cycle_loss_X = self.recon_criterion(cycle_X, real_X)\n",
    "        return cycle_loss_X\n",
    "        \n",
    "    def gen_loss(self, real_X, real_Y, gen_XY, gen_YX, disc_Y):\n",
    "        adv_loss_XY, fake_Y = self.adv_loss(real_X, disc_Y, gen_XY)\n",
    "\n",
    "        id_loss_Y = self.id_loss(real_Y, gen_XY)\n",
    "        \n",
    "        cycle_loss_X = self.cycle_loss(real_X, fake_Y, gen_YX)\n",
    "        cycle_loss_Y = self.cycle_loss(real_Y, gen_YX(real_Y), gen_XY)\n",
    "        cycle_loss = cycle_loss_X + cycle_loss_Y\n",
    "        \n",
    "        gen_loss_XY = adv_loss_XY + 0.5*self.lambda_w*id_loss_Y + self.lambda_w*cycle_loss\n",
    "        return gen_loss_XY\n",
    "    \n",
    "    def disc_loss(self, real_X, fake_X, disc_X):\n",
    "        disc_fake_hat = disc_X(fake_X.detach())\n",
    "        disc_fake_loss = self.adv_criterion(disc_fake_hat, torch.zeros_like(disc_fake_hat))\n",
    "        \n",
    "        disc_real_hat = disc_X(real_X)\n",
    "        disc_real_loss = self.adv_criterion(disc_real_hat, torch.ones_like(disc_real_hat))\n",
    "        \n",
    "        disc_loss = (disc_fake_loss+disc_real_loss) / 2\n",
    "        return disc_loss\n",
    "    \n",
    "    def configure_optimizers(self):\n",
    "        params = {\n",
    "            \"lr\": self.lr,\n",
    "            \"betas\": self.betas,\n",
    "        }\n",
    "        opt_gen_PM = torch.optim.Adam(self.gen_PM.parameters(), **params)\n",
    "        opt_gen_MP = torch.optim.Adam(self.gen_MP.parameters(), **params)\n",
    "        \n",
    "        opt_disc_M = torch.optim.Adam(self.disc_M.parameters(), **params)\n",
    "        opt_disc_P = torch.optim.Adam(self.disc_P.parameters(), **params)\n",
    "        \n",
    "        return [opt_gen_PM, opt_gen_MP, opt_disc_M, opt_disc_P], []\n",
    "    \n",
    "    def training_step(self, batch, batch_idx, optimizer_idx):\n",
    "        real_M, real_P = batch\n",
    "        if optimizer_idx == 0:\n",
    "            gen_loss_PM = self.gen_loss(real_P, real_M, self.gen_PM, self.gen_MP, self.disc_M)\n",
    "            return gen_loss_PM\n",
    "        if optimizer_idx == 1:\n",
    "            gen_loss_MP = self.gen_loss(real_M, real_P, self.gen_MP, self.gen_PM, self.disc_P)\n",
    "            return gen_loss_MP\n",
    "        \n",
    "        if optimizer_idx == 2:\n",
    "            disc_loss_M = self.disc_loss(real_M, self.gen_PM(real_P), self.disc_M)\n",
    "            return disc_loss_M\n",
    "        if optimizer_idx == 3:\n",
    "            disc_loss_P = self.disc_loss(real_P, self.gen_MP(real_M), self.disc_P)\n",
    "            return disc_loss_P\n",
    "    \n",
    "    def training_epoch_end(self, outputs):\n",
    "        self.epoch_count += 1\n",
    "        \n",
    "        losses = []\n",
    "        for j in range(4):\n",
    "            loss = np.mean([out[j][\"loss\"].item() for out in outputs])\n",
    "            losses.append(loss)\n",
    "        self.loss_history.append(losses)\n",
    "        \n",
    "        if self.epoch_count%10 == 0:\n",
    "            print(\n",
    "                f\"Epoch {self.epoch_count} -\",\n",
    "                f\"gen_loss_PM: {losses[0]:.5f} -\",\n",
    "                f\"gen_loss_MP: {losses[1]:.5f} -\",\n",
    "                f\"disc_loss_M: {losses[2]:.5f} -\",\n",
    "                f\"disc_loss_P: {losses[3]:.5f}\",\n",
    "            )\n",
    "        \n",
    "        if self.epoch_count%self.display_epochs==0 or self.epoch_count==1:\n",
    "            gen_monets = self(self.photo_samples.to(self.device)).detach().cpu()\n",
    "            show_img(\n",
    "                torch.cat([self.photo_samples, gen_monets]),\n",
    "                nrow=5,\n",
    "                title=f\"Epoch {self.epoch_count}: Photo-to-Monet Translation\",\n",
    "            )\n",
    "            \n",
    "    def predict_step(self, batch, batch_idx):\n",
    "        return self(batch)\n",
    "    \n",
    "    def loss_curves(self):\n",
    "        labels = [\"gen_loss_PM\", \"gen_loss_MP\", \"disc_loss_M\", \"disc_loss_P\"]\n",
    "        titles = [\"Generator Loss Curves\", \"Discriminator Loss Curves\"]\n",
    "        num_epochs = len(self.loss_history)\n",
    "        plt.figure(figsize=(18, 4.5))\n",
    "        for j in range(4):\n",
    "            if j%2 == 0:\n",
    "                plt.subplot(1, 2, (j//2)+1)\n",
    "                plt.title(titles[j//2])\n",
    "                plt.ylabel(\"Loss\")\n",
    "                plt.xlabel(\"Epoch\")\n",
    "            plt.plot(\n",
    "                np.arange(1, num_epochs+1),\n",
    "                [losses[j] for losses in self.loss_history],\n",
    "                label=labels[j],\n",
    "            )\n",
    "            plt.legend(loc=\"upper right\")"
   ],
   "metadata": {
    "papermill": {
     "duration": 0.064437,
     "end_time": "2023-03-19T01:57:48.661507",
     "exception": false,
     "start_time": "2023-03-19T01:57:48.59707",
     "status": "completed"
    },
    "tags": [],
    "execution": {
     "iopub.status.busy": "2023-03-31T12:21:06.063998Z",
     "iopub.execute_input": "2023-03-31T12:21:06.064453Z",
     "iopub.status.idle": "2023-03-31T12:21:06.120355Z",
     "shell.execute_reply.started": "2023-03-31T12:21:06.064412Z",
     "shell.execute_reply": "2023-03-31T12:21:06.119179Z"
    },
    "trusted": true
   },
   "execution_count": null,
   "outputs": []
  },
  {
   "cell_type": "markdown",
   "source": [
    "---"
   ],
   "metadata": {
    "papermill": {
     "duration": 0.033909,
     "end_time": "2023-03-19T01:57:48.728836",
     "exception": false,
     "start_time": "2023-03-19T01:57:48.694927",
     "status": "completed"
    },
    "tags": []
   }
  },
  {
   "cell_type": "code",
   "source": [
    "trainer = pl.Trainer(\n",
    "    accelerator=\"gpu\",\n",
    "    devices=1,\n",
    "    logger=False,\n",
    "    enable_checkpointing=False,\n",
    "    max_epochs=NUM_EPOCHS,\n",
    ")\n",
    "\n",
    "dm = CustomDataModule()\n",
    "model = CycleGAN()\n",
    "trainer.fit(model, datamodule=dm)"
   ],
   "metadata": {
    "papermill": {
     "duration": 15422.135167,
     "end_time": "2023-03-19T06:14:51.028526",
     "exception": false,
     "start_time": "2023-03-19T01:57:48.893359",
     "status": "completed"
    },
    "tags": [],
    "execution": {
     "iopub.status.busy": "2023-03-31T12:21:11.920504Z",
     "iopub.execute_input": "2023-03-31T12:21:11.920989Z",
     "iopub.status.idle": "2023-03-31T12:57:18.396423Z",
     "shell.execute_reply.started": "2023-03-31T12:21:11.920948Z",
     "shell.execute_reply": "2023-03-31T12:57:18.395410Z"
    },
    "trusted": true
   },
   "execution_count": null,
   "outputs": []
  },
  {
   "cell_type": "code",
   "source": [
    "model.loss_curves()"
   ],
   "metadata": {
    "papermill": {
     "duration": 0.651238,
     "end_time": "2023-03-19T06:14:52.570658",
     "exception": false,
     "start_time": "2023-03-19T06:14:51.91942",
     "status": "completed"
    },
    "tags": [],
    "execution": {
     "iopub.status.busy": "2023-03-31T13:34:31.472412Z",
     "iopub.execute_input": "2023-03-31T13:34:31.473272Z",
     "iopub.status.idle": "2023-03-31T13:34:31.896564Z",
     "shell.execute_reply.started": "2023-03-31T13:34:31.473202Z",
     "shell.execute_reply": "2023-03-31T13:34:31.895652Z"
    },
    "trusted": true
   },
   "execution_count": null,
   "outputs": []
  },
  {
   "cell_type": "markdown",
   "source": [
    "---"
   ],
   "metadata": {
    "papermill": {
     "duration": 0.147734,
     "end_time": "2023-03-19T06:14:52.876958",
     "exception": false,
     "start_time": "2023-03-19T06:14:52.729224",
     "status": "completed"
    },
    "tags": []
   }
  },
  {
   "cell_type": "code",
   "source": [
    "predictions = trainer.predict(model, datamodule=dm)"
   ],
   "metadata": {
    "papermill": {
     "duration": 126.035671,
     "end_time": "2023-03-19T06:16:59.658291",
     "exception": false,
     "start_time": "2023-03-19T06:14:53.62262",
     "status": "completed"
    },
    "tags": [],
    "execution": {
     "iopub.status.busy": "2023-03-31T13:34:36.021933Z",
     "iopub.execute_input": "2023-03-31T13:34:36.022502Z",
     "iopub.status.idle": "2023-03-31T13:34:38.505318Z",
     "shell.execute_reply.started": "2023-03-31T13:34:36.022467Z",
     "shell.execute_reply": "2023-03-31T13:34:38.504260Z"
    },
    "trusted": true
   },
   "execution_count": null,
   "outputs": []
  },
  {
   "cell_type": "code",
   "source": [
    "os.makedirs(\"../images\", exist_ok=True)\n",
    "\n",
    "idx = 0\n",
    "for tensor in predictions:\n",
    "    for monet in tensor:\n",
    "        save_image((monet.squeeze()*0.5+0.5), fp=f\"../images/{idx}.jpg\")\n",
    "        idx += 1\n",
    "\n",
    "shutil.make_archive(\"/Users/apple/Downloads/images\", \"zip\")"
   ],
   "metadata": {
    "papermill": {
     "duration": 31.787796,
     "end_time": "2023-03-19T06:17:31.88707",
     "exception": false,
     "start_time": "2023-03-19T06:17:00.099274",
     "status": "completed"
    },
    "tags": [],
    "execution": {
     "iopub.status.busy": "2023-03-31T13:34:40.386277Z",
     "iopub.execute_input": "2023-03-31T13:34:40.386669Z",
     "iopub.status.idle": "2023-03-31T13:34:40.597406Z",
     "shell.execute_reply.started": "2023-03-31T13:34:40.386626Z",
     "shell.execute_reply": "2023-03-31T13:34:40.596428Z"
    },
    "trusted": true
   },
   "execution_count": null,
   "outputs": []
  },
  {
   "cell_type": "markdown",
   "source": [
    "---"
   ],
   "metadata": {
    "papermill": {
     "duration": 0.149773,
     "end_time": "2023-03-19T06:17:32.198249",
     "exception": false,
     "start_time": "2023-03-19T06:17:32.048476",
     "status": "completed"
    },
    "tags": []
   }
  }
 ]
}
