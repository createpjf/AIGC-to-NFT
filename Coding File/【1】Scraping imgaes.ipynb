{
 "cells": [
  {
   "cell_type": "code",
   "execution_count": null,
   "id": "8acfaa7a",
   "metadata": {},
   "outputs": [],
   "source": [
    "import requests\n",
    "from bs4 import BeautifulSoup\n",
    "import os\n",
    "\n",
    "# 设置会话对象\n",
    "s = requests.Session()\n",
    "s.headers.update({\n",
    "    'User-Agent': 'Mozilla/5.0 (Windows NT 10.0; Win64; x64) AppleWebKit/537.36 (KHTML, like Gecko) Chrome/58.0.3029.110 Safari/537.3'\n",
    "})\n",
    "s.get('https://film-grab.com/')  # 先访问首页，获取cookies\n",
    "\n",
    "# 获取剧照页面链接，可替换链接，下面以《Interstellar星际穿越》为例\n",
    "gallery_url = 'https://film-grab.com/2015/04/17/interstellar//'\n",
    "\n",
    "# 获取剧照页面HTML内容\n",
    "response = s.get(gallery_url)\n",
    "soup = BeautifulSoup(response.text, 'html.parser')\n",
    "\n",
    "# 获取所有剧照图片元素\n",
    "photo = soup.find('div', class_='bwg-background bwg-background-0')\n",
    "if photo is None:\n",
    "    print('No Photo Finded')\n",
    "    exit()\n",
    "\n",
    "image_elements = photo.find_all('img')\n",
    "\n",
    "# 下载剧照图片\n",
    "folder_name = 'website_interstellar'\n",
    "if not os.path.exists(folder_name):\n",
    "    os.makedirs(folder_name)\n",
    "\n",
    "for i, img in enumerate(image_elements):\n",
    "    img_url = img['src']\n",
    "    file_name = f'image_{i+1}.jpg'\n",
    "    file_path = os.path.join(folder_name, file_name)\n",
    "    try:\n",
    "        img_data = requests.get(img_url, headers={\"User-Agent\": \"Mozilla/5.0\"}).content\n",
    "    except requests.exceptions.RequestException as e:\n",
    "        print(f'Download {i+1} Fail: {e}')\n",
    "        continue\n",
    "    with open(file_path, 'wb') as f:\n",
    "        f.write(img_data)\n",
    "    print(f'Download {i+1} Done')"
   ]
  }
 ],
 "metadata": {
  "kernelspec": {
   "display_name": "Python 3 (ipykernel)",
   "language": "python",
   "name": "python3"
  },
  "language_info": {
   "codemirror_mode": {
    "name": "ipython",
    "version": 3
   },
   "file_extension": ".py",
   "mimetype": "text/x-python",
   "name": "python",
   "nbconvert_exporter": "python",
   "pygments_lexer": "ipython3",
   "version": "3.9.12"
  }
 },
 "nbformat": 4,
 "nbformat_minor": 5
}
